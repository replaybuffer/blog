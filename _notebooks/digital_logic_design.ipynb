{
 "cells": [
  {
   "cell_type": "markdown",
   "metadata": {},
   "source": [
    "# Digital Logic Design\n",
    "\n"
   ]
  },
  {
   "cell_type": "markdown",
   "metadata": {},
   "source": [
    "## Levels of abtraction in an electronic computing system\n",
    "![levels of abstraction](images/digital_logic_design/abstractions.png)\n",
    "\n",
    "The lowest level of abstraction is in physics, at the level of electrons. The behaviour of these electrons are decribed by quantum mechanics.\n",
    "The transistors have well-defined connection points called terminals and can be modelled by\n",
    "relationship between voltage and current at these terminals. This level helps to ignore the electrons\n",
    "and work with transistors.\n",
    "Analog circuits assemble these devices to create components such as amplifiers. Analog circuits work with continuous range of voltages, while digital circuits restrict the voltage to discrete ranges. Logic design use components in digital circuits to build more complex structures like adders, memories etc.\n",
    "\n",
    "Microarchitecure links the logic and architecture levels, while architecture is the level describes the computer to a programmer. For eg., Intel x86 architecture describes a set of instructions and registers a programmer is allowed to use. Microarchitecture executes these instructions using logic circuits. A particular architecture can be implemented using one of many different microarchitectures (Intel core i7, Intel 80486 and AMD Athlon all implement the same Intel x86 architecture with different performance tradeoffs like price and performance).\n",
    "\n",
    "OS handles low level tasks like memory management and disk management. Finally, application software uses the platform provided by OS to solve various problems for the end user."
   ]
  },
  {
   "cell_type": "markdown",
   "metadata": {},
   "source": [
    "## Number system\n",
    "\n",
    "### Decimal system\n",
    "- 10 digits\n",
    "- Each column has 10 times the weight of the previous column\n",
    "- From right to left, the weights are 1, 10, 100 and so on.\n",
    "- An N digit decimal number represents one out of $10^N$ possibilities: 0, 1, 2, ..., $10^N$ - 1\n",
    "\n",
    "### Binary system\n",
    "- 2 digits\n",
    "- Each column has 2 times the weight of the previous column\n",
    "- From right to left, the weights are 1, 2, 4 and so on.\n",
    "- An N digit decimal number represents one out of $2^N$ possibilities: 0, 1, 2, ...,\n",
    "$2^N$ - 1\n",
    "\n",
    "### Hexadecimal system\n",
    "- Writing long binary numbers is tedious and prone to error.\n",
    "- A group of 4 bits represents one of $2^4$ possibilities.\n",
    "- Hexadecimal numbers: digits 0 to 9 along with alphabets A to F.\n",
    "- columns in base 16 have weights 1, 16, 256 and so on.\n",
    "\n",
    "### Byte, nibble and words\n",
    "- Byte\n",
    "    - group of 8 bits\n",
    "    - it represents one of $2^8$ possibilities\n",
    "    - size of objects stored in a computer's memory are customarily measured in bytes rather than bits.\n",
    "- Nibble\n",
    "    - half a byte\n",
    "    - it represents one of $2^4$ possibilities\n",
    "    - no longer commonly used\n",
    "- Words\n",
    "    - Microprocessors handle data in words\n",
    "    - size of a word depends on the architecture of the microprocessor\n",
    "\n",
    "Within a byte, the bit at 1s column is called least significant bit (lsb) and the bit at the other end is called the most significant bit (msb). Similarly least significant byte and most significant byte exists for a word."
   ]
  },
  {
   "cell_type": "markdown",
   "metadata": {},
   "source": [
    "## Binary addition\n",
    "![binary addition](images/digital_logic_design/binary_addition.png)\n",
    "\n",
    "### Overflow\n",
    "Digital systems usually operate within a fixed number of bits. The addition is said to overflow, if the result can't be fit into the available number of bits.\n",
    "\n",
    "## Representing signed binary numbers\n",
    "- two ways: sign/magnitude method and two's complement method\n",
    "\n",
    "### Sign/Magnitude numbers\n",
    "- A N-bit sign/magnitude number uses the first bit for sign and the remaining N-1 bits for magnitude.\n",
    "- intuitively appealing\n",
    "- sign bit of 0 is positive and sign bit of 1 is negative\n",
    "- ordinary addition does not work\n",
    "- N-bit sign/magnitude number ranges from $[-(2^{N-1} - 1) , (2^{N-1} - 1)]$\n",
    "- two representation for 0, +0 and -0 can be a problem\n",
    "\n",
    "### Two's complement numbers\n",
    "- identical to unsigned binary numbers except that the msb has a weight of $-2^{N-1}$ instead of $2^{N-1}$.\n",
    "- Range of an N-bit two's complement number $[-2^{N-1}, 2^{N-1} - 1]$\n",
    "- zero has a single representation and ordinary addition works.\n",
    "- all positive numbers have 0 in the msb and all negative number have a 1. Eventhough the representation is similar to sign/magnitude numbers, the numbers are intepreted differently.\n",
    "- Sign of a two's complement number can be reversed in a process called _taking the two's complement_.\n",
    "    - To take the two's complement of a number, reverse all the bits in the number and add 1 to the result.\n",
    "    - This is useful to find the represenatation of a negative number or to find the magnitude of a negative number.\n",
    "- sign extension: When two's complement number is extended to more bits, the sign bit should moved to the most significant bit.\n",
    "\n",
    "## Logic gates\n"
   ]
  },
  {
   "cell_type": "code",
   "execution_count": null,
   "metadata": {},
   "outputs": [],
   "source": []
  }
 ],
 "metadata": {
  "kernelspec": {
   "display_name": "Python 3",
   "language": "python",
   "name": "python3"
  },
  "language_info": {
   "codemirror_mode": {
    "name": "ipython",
    "version": 3
   },
   "file_extension": ".py",
   "mimetype": "text/x-python",
   "name": "python",
   "nbconvert_exporter": "python",
   "pygments_lexer": "ipython3",
   "version": "3.8.2"
  }
 },
 "nbformat": 4,
 "nbformat_minor": 4
}
